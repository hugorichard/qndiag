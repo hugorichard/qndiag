{
  "cells": [
    {
      "cell_type": "code",
      "execution_count": null,
      "metadata": {
        "collapsed": false
      },
      "outputs": [],
      "source": [
        "%matplotlib inline"
      ]
    },
    {
      "cell_type": "markdown",
      "metadata": {},
      "source": [
        "\n# Replicate figure from paper\n"
      ]
    },
    {
      "cell_type": "code",
      "execution_count": null,
      "metadata": {
        "collapsed": false
      },
      "outputs": [],
      "source": [
        "# Authors: Pierre Ablin <pierreablin@gmail.com>\n#\n# License: MIT\n\nimport numpy as np\nimport matplotlib.pyplot as plt\nfrom matplotlib.ticker import LogLocator\n\nimport mne\nfrom mne.datasets import sample\n\nfrom qndiag import qndiag, ajd_pham, gradient, transform_set\n\nrng = np.random.RandomState(0)\n\nfontsize = 5\nparams = {\n      'axes.titlesize': 10,\n      'axes.labelsize': 10,\n      'font.size': 7,\n      'legend.fontsize': 8,\n      'xtick.labelsize': fontsize,\n      'ytick.labelsize': fontsize,\n      'text.usetex': True,\n      'ytick.major.pad': '0',\n      'ytick.minor.pad': '0'}\nplt.rcParams.update(params)\n\n\ndef loss(D):\n    n, p, _ = D.shape\n    output = 0\n    for i in range(n):\n        Di = D[i]\n        output += np.sum(np.log(np.diagonal(Di))) - np.linalg.slogdet(Di)[1]\n    return output / (2 * n)\n\n\nn, p = 100, 40\n\n\nf, axes = plt.subplots(2, 3, figsize=(7, 3.04), sharex='col')\nexpe_str = ['(a)', '(b)', '(c)']\naxes = axes.T\nfor j, (sigma, axe) in enumerate(zip([0., 0.1, 0], axes)):\n    if j != 2:  # Synthetic data\n        # Generate diagonal matrices\n        D = rng.uniform(size=(n, p))\n        # Generate a random mixing matrix\n        A = rng.randn(p, p)\n        C = np.zeros((n, p, p))\n        # Generate the dataset\n        for i in range(n):\n            R = rng.randn(p, p)\n            C[i] = np.dot(A, D[i, :, None] * A.T) + sigma ** 2 * R.dot(R.T)\n    else:  # Real data\n        data_path = sample.data_path()\n        raw_fname = data_path + '/MEG/sample/sample_audvis_filt-0-40_raw.fif'\n        raw = mne.io.read_raw_fif(raw_fname, preload=True)\n        X = raw.get_data()\n        # Reduce dimension of X by PCA:\n        U, D, V = np.linalg.svd(X, full_matrices=False)\n        X = V[-p:, :]\n        C = np.array([np.dot(x, x.T) for x in np.split(X, n, axis=1)])\n\n    for algo in [qndiag, ajd_pham]:\n        _, infos = algo(C, return_B_list=True)\n        # For Pham, compute metrics after the algorithm is run\n        B_list = infos['B_list']\n        infos['gradient_list'] =\\\n            [np.linalg.norm(gradient(transform_set(B, C))) for B in B_list]\n        infos['loss_list'] =\\\n            [loss(transform_set(B, C)) for B in B_list]\n        for i, (to_plot, name, ax) in enumerate(\n                                      zip(['loss_list', 'gradient_list'],\n                                          ['Objective function',\n                                           'Gradient norm'],\n                                          axe)):\n            ax.loglog(infos['t_list'], infos[to_plot], linewidth=2)\n            if i == 1 and j == 1:\n                ax.set_xlabel('Time (sec.)')\n            if j == 0:\n                ax.set_ylabel(name)\n            if i == 1:\n                art = ax.annotate(expe_str[j], (0, 0), (50, -30),\n                                  xycoords='axes fraction',\n                                  textcoords='offset points', va='top')\n            ax.grid(True)\n            ax.yaxis.set_major_locator(LogLocator(numticks=4, subs=(1.,)))\n            ax.minorticks_off()\n\nlgd = plt.figlegend(ax.lines, ['Quasi-Newton (proposed)', 'Pham 01'],\n                    loc=(0.32, .9), ncol=2, labelspacing=0.)\nplt.savefig('expe.pdf', bbox_extra_artists=(art, lgd), bbox_inches='tight')"
      ]
    }
  ],
  "metadata": {
    "kernelspec": {
      "display_name": "Python 3",
      "language": "python",
      "name": "python3"
    },
    "language_info": {
      "codemirror_mode": {
        "name": "ipython",
        "version": 3
      },
      "file_extension": ".py",
      "mimetype": "text/x-python",
      "name": "python",
      "nbconvert_exporter": "python",
      "pygments_lexer": "ipython3",
      "version": "3.8.2"
    }
  },
  "nbformat": 4,
  "nbformat_minor": 0
}