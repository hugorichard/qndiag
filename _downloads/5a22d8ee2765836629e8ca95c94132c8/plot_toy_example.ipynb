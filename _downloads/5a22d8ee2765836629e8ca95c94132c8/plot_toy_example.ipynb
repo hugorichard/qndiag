{
  "cells": [
    {
      "cell_type": "code",
      "execution_count": null,
      "metadata": {
        "collapsed": false
      },
      "outputs": [],
      "source": [
        "%matplotlib inline"
      ]
    },
    {
      "cell_type": "markdown",
      "metadata": {},
      "source": [
        "\n# Joint diagonalization on toy data\n"
      ]
    },
    {
      "cell_type": "code",
      "execution_count": null,
      "metadata": {
        "collapsed": false
      },
      "outputs": [],
      "source": [
        "# Authors: Pierre Ablin <pierreablin@gmail.com>\n#\n# License: MIT\n\nimport numpy as np\nfrom qndiag import qndiag\n\nn, p = 10, 3\ndiagonals = np.random.uniform(size=(n, p))\nA = np.random.randn(p, p)  # mixing matrix\nC = np.array([A.dot(d[:, None] * A.T) for d in diagonals])  # dataset\nB, _ = qndiag(C)\n\nwith np.printoptions(precision=3, suppress=True):\n    print(B.dot(A))  # Should be a permutation + scale matrix"
      ]
    }
  ],
  "metadata": {
    "kernelspec": {
      "display_name": "Python 3",
      "language": "python",
      "name": "python3"
    },
    "language_info": {
      "codemirror_mode": {
        "name": "ipython",
        "version": 3
      },
      "file_extension": ".py",
      "mimetype": "text/x-python",
      "name": "python",
      "nbconvert_exporter": "python",
      "pygments_lexer": "ipython3",
      "version": "3.8.2"
    }
  },
  "nbformat": 4,
  "nbformat_minor": 0
}