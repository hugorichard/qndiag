{
  "cells": [
    {
      "cell_type": "code",
      "execution_count": null,
      "metadata": {
        "collapsed": false
      },
      "outputs": [],
      "source": [
        "%matplotlib inline"
      ]
    },
    {
      "cell_type": "markdown",
      "metadata": {},
      "source": [
        "\n# A simple tutorial on joint diagonalization\n\nWe generate some independent signals with different powers.\nThe signals are then mixed, and their covariances are computed.\nJoint diagonalization recovers the mixing matrix.\n"
      ]
    },
    {
      "cell_type": "code",
      "execution_count": null,
      "metadata": {
        "collapsed": false
      },
      "outputs": [],
      "source": [
        "# Authors: Pierre Ablin <pierreablin@gmail.com>\n#\n# License: MIT\n\nimport numpy as np\nimport matplotlib.pyplot as plt\n\nfrom qndiag import qndiag\n\n\nrng = np.random.RandomState(0)"
      ]
    },
    {
      "cell_type": "markdown",
      "metadata": {},
      "source": [
        "We take 10 different bins, and 5 sources. We generate random powers for\neach source and bin\n\n"
      ]
    },
    {
      "cell_type": "code",
      "execution_count": null,
      "metadata": {
        "collapsed": false
      },
      "outputs": [],
      "source": [
        "n_bins = 10\nn_sources = 5\npowers = rng.rand(n_bins, n_sources)"
      ]
    },
    {
      "cell_type": "markdown",
      "metadata": {},
      "source": [
        "Next, we generate a random minxing matrix A, and for each bin, we generate\nsources s with the powers above, and observe the signals x = A.dot(s).\nWe then store the covariances of the signals\n\n"
      ]
    },
    {
      "cell_type": "code",
      "execution_count": null,
      "metadata": {
        "collapsed": false
      },
      "outputs": [],
      "source": [
        "n_samples = 100\nA = rng.randn(n_sources, n_sources)\ncovariances = []\nfor power in powers:\n    s = power[:, None] * rng.randn(n_sources, n_samples)\n    x = np.dot(A, s)\n    covariances.append(np.dot(x, x.T) / n_samples)\n\ncovariances = np.array(covariances)"
      ]
    },
    {
      "cell_type": "markdown",
      "metadata": {},
      "source": [
        "We now use qndiag on 'covariances' to recover the unmixing matrix, i.e the\ninverse of A\n\n"
      ]
    },
    {
      "cell_type": "code",
      "execution_count": null,
      "metadata": {
        "collapsed": false
      },
      "outputs": [],
      "source": [
        "B, _ = qndiag(covariances)\n\nunmixing_mixing = np.dot(B, A)\nplt.matshow(unmixing_mixing)  # Should be ~ a permutation + scale matrix\nplt.show()"
      ]
    }
  ],
  "metadata": {
    "kernelspec": {
      "display_name": "Python 3",
      "language": "python",
      "name": "python3"
    },
    "language_info": {
      "codemirror_mode": {
        "name": "ipython",
        "version": 3
      },
      "file_extension": ".py",
      "mimetype": "text/x-python",
      "name": "python",
      "nbconvert_exporter": "python",
      "pygments_lexer": "ipython3",
      "version": "3.8.2"
    }
  },
  "nbformat": 4,
  "nbformat_minor": 0
}